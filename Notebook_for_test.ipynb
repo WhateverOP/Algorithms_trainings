{
 "cells": [
  {
   "cell_type": "code",
   "execution_count": 1,
   "metadata": {},
   "outputs": [
    {
     "name": "stdout",
     "output_type": "stream",
     "text": [
      "ongsword\n",
      "lngsword\n",
      "logsword\n",
      "lonsword\n",
      "longword\n",
      "longsord\n",
      "longswrd\n",
      "longswod\n",
      "longswor\n"
     ]
    }
   ],
   "source": [
    "some_word = 'longsword'\n",
    "for del_i in range(len(some_word)):\n",
    "    print(some_word[:del_i] + some_word[del_i + 1:])"
   ]
  },
  {
   "cell_type": "code",
   "execution_count": null,
   "metadata": {},
   "outputs": [],
   "source": []
  }
 ],
 "metadata": {
  "kernelspec": {
   "display_name": "test_env",
   "language": "python",
   "name": "python3"
  },
  "language_info": {
   "codemirror_mode": {
    "name": "ipython",
    "version": 3
   },
   "file_extension": ".py",
   "mimetype": "text/x-python",
   "name": "python",
   "nbconvert_exporter": "python",
   "pygments_lexer": "ipython3",
   "version": "3.10.13"
  }
 },
 "nbformat": 4,
 "nbformat_minor": 2
}
